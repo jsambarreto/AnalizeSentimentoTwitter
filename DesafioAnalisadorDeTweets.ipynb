{
  "nbformat": 4,
  "nbformat_minor": 0,
  "metadata": {
    "kernelspec": {
      "display_name": "Python 3",
      "language": "python",
      "name": "python3"
    },
    "language_info": {
      "codemirror_mode": {
        "name": "ipython",
        "version": 3
      },
      "file_extension": ".py",
      "mimetype": "text/x-python",
      "name": "python",
      "nbconvert_exporter": "python",
      "pygments_lexer": "ipython3",
      "version": "3.7.6"
    },
    "colab": {
      "name": "DesafioAnalisadorDeTweets.ipynb",
      "provenance": [],
      "collapsed_sections": []
    }
  },
  "cells": [
    {
      "cell_type": "markdown",
      "metadata": {
        "id": "W8x_GOCZ_-hL"
      },
      "source": [
        "# <font  color=blue>Análise de Sentimento no Twitter</font>"
      ]
    },
    {
      "cell_type": "markdown",
      "metadata": {
        "id": "MKmz324a_-hT"
      },
      "source": [
        "Esse projeto consiste na Análise de sentimentos de tweets coletados através da API do Twitter sobre X. O projeto consiste em:\n",
        "* Coleta de tweets.\n",
        "* Identificação de tweets mais curtidos e retweetados.\n",
        "* Identificação da fonte dos tweets. \n",
        "* Análise de sentimentos. \n",
        "* Mapa de calor dos tweets utilizando a localização declarada pelos usuários.\n"
      ]
    },
    {
      "cell_type": "markdown",
      "metadata": {
        "id": "ZGd7b3Y-_-hU"
      },
      "source": [
        "##### <font color=red>Instalação dos pacotes</font>"
      ]
    },
    {
      "cell_type": "markdown",
      "metadata": {
        "id": "yIPA4h61_-hV"
      },
      "source": [
        "* **Geopy:** Usada para definir a geolocalização<br>\n",
        "*!pip install geopy*\n",
        "* **folium**\n",
        "*!pip install folium*\n",
        "\n",
        "* **pandas**<br>\n",
        "*!pip install pandas*"
      ]
    },
    {
      "cell_type": "markdown",
      "metadata": {
        "id": "8TVc8GjW_-hW"
      },
      "source": [
        "### <font color=blue>Importação de pacotes</font>"
      ]
    },
    {
      "cell_type": "code",
      "metadata": {
        "id": "vb9Q8VhZ_-hX"
      },
      "source": [
        "# Pacotes básico\n",
        "import tweepy #Acessa API do Twitter\n",
        "import pandas as pd     \n",
        "import numpy as np \n",
        "from textblob import TextBlob as tb\n",
        "import time\n",
        "import re\n",
        "\n",
        "# Pacotes para visualização \n",
        "import matplotlib.pyplot as plt\n",
        "\n",
        "#MAPA\n",
        "from geopy.geocoders import Nominatim\n",
        "import folium\n",
        "from folium import plugins"
      ],
      "execution_count": 1,
      "outputs": []
    },
    {
      "cell_type": "markdown",
      "metadata": {
        "id": "lse8xHWQ_-hZ"
      },
      "source": [
        "### <font color=blue>Definição das credenciais de acesso (autenticação) na API do Twitter</font>"
      ]
    },
    {
      "cell_type": "code",
      "metadata": {
        "id": "nuSGzEB8_-hZ"
      },
      "source": [
        "# Credenciais para utilização da API do Twitter\n",
        "\n",
        "consumer_key = 'vAfg4JGHseCbB3XSjC6WRrKNxr'\n",
        "consumer_secret = '1v13PEqKbVriJgpVlSQxDAWigLcVU7dkRSMFdJ5n25UVuklBYy9'\n",
        "\n",
        "access_token = '61488529-2Iva8ZHkCQLrnXxqmuAYE1yubDjGJZxqpTaiUUh1zW'\n",
        "access_token_secret = 'xYigRVN7kddVKGdkx4JTTOh8fLgPyIB6Sjlk32GEmMMNwP'"
      ],
      "execution_count": 2,
      "outputs": []
    },
    {
      "cell_type": "markdown",
      "metadata": {
        "id": "Qx842yyJ_-hb"
      },
      "source": [
        "### <font color=blue>Autenticação na API do Twitter</font>"
      ]
    },
    {
      "cell_type": "code",
      "metadata": {
        "id": "pHE7nfIz_-hc"
      },
      "source": [
        "#Realizar autenticação no Twitter\n",
        "\n",
        "auth = tweepy.OAuthHandler(consumer_key, consumer_secret)\n",
        "auth.set_access_token(access_token, access_token_secret)\n",
        "api = tweepy.API(auth,wait_on_rate_limit=True,wait_on_rate_limit_notify=True,retry_count=20,retry_delay=1)"
      ],
      "execution_count": 3,
      "outputs": []
    },
    {
      "cell_type": "markdown",
      "metadata": {
        "id": "QaVpMOYz_-hc"
      },
      "source": [
        "**onde:**\n",
        "* retry_count - número padrão de tentativas para tentar quando ocorrer um erro\n",
        "* retry_delay - número de segundos para aguardar entre tentativas\n",
        "* wait_on_rate_limit - se deve ou não esperar automaticamente a reposição dos limites de taxa\n",
        "* wait_on_rate_limit_notify - Imprima ou não uma notificação quando o Tweepy estiver aguardando a reposição dos limites de taxa"
      ]
    },
    {
      "cell_type": "markdown",
      "metadata": {
        "id": "zaaGtvBO_-hd"
      },
      "source": [
        "### <font color=blue>Coleta de dados (busca por palavra chave)</font>"
      ]
    },
    {
      "cell_type": "code",
      "metadata": {
        "id": "3DkLdpSe_-he"
      },
      "source": [
        "# Definir listas de armazenamento\n",
        "tweets = []\n",
        "info = []\n",
        "\n",
        "#Definir que palavra deseja pesquisar no Twitter\n",
        "#keyword = ('home office  OR  trabalho remoto  OR  trabalho em casa OR homeoffice OR  trabalhoremoto OR trabalhoemcasa')\n",
        "keyword = (\"olympics\")\n"
      ],
      "execution_count": 41,
      "outputs": []
    },
    {
      "cell_type": "markdown",
      "metadata": {
        "id": "mI07fQO5_-hf"
      },
      "source": [
        "**OBSERVAÇÃO:**\n",
        "A documentação completa do pacote *tweepy* está disponível no link abaixo:\n",
        "* http://docs.tweepy.org/en/v3.5.0/api.html"
      ]
    },
    {
      "cell_type": "markdown",
      "metadata": {
        "id": "la7rDB3t_-hf"
      },
      "source": [
        "Para realizar a busca por palavra chave vamos utilizar a função abaixo:<br>\n",
        "* <font color=green>API.search(q[, lang][, locale][, rpp][, page][, since_id][, geocode][, show_user])</font><br><br>\n",
        "**onde os principais parâmetros que serão usados são:**\n",
        "\n",
        "* <font color=blue>q</font> - a string de consulta de pesquisa\n",
        "* <font color=blue>lang</font> - Restringe os tweets para o idioma especificado, fornecido por um código ISO 639-1.\n",
        "* <font color=blue>rpp</font> - O número de tweets a serem retornados por página, até no máximo 100.\n",
        "* <font color=blue>page</font> - O número da página (começando em 1) a ser retornado, até um máximo de aproximadamente 1500 resultados (com base na página rpp).\n",
        "* <font color=blue>since_id</font>  - Retorna apenas status com um ID maior que (ou seja, mais recente que) o ID especificado.\n",
        "* <font color=blue>geocode</font>  - Retorna tweets de usuários localizados em um determinado raio da latitude / longitude especificada.\n",
        "* <font color=blue>show_user</font>  - Quando verdadeiro, precede \"<user>:\" no início do tweet. O padrão é falso.\n",
        "\n"
      ]
    },
    {
      "cell_type": "code",
      "metadata": {
        "id": "jbGQNY0F_-hi"
      },
      "source": [
        "from googletrans import Translator\n",
        "from unidecode import unidecode\n",
        "analyses = None\n",
        "tweets_score = []\n",
        "polarities = []\n",
        "tweets = []\n",
        "#mixed, recent, popular\n",
        "\n",
        "#tweets = token.search(q=keyword, count=10, result_type='mixed')\n",
        "#tweets = token.search(q=keyword, count = 1000,rpp=10 ,result_type='mixed', tweet_mode='extended')\n",
        "info = []\n",
        "newtweet = None\n",
        "for tweet in tweepy.Cursor(api.search,\n",
        "                          q=keyword,rpp=100, result_type='mixed', \\\n",
        "                           tweet_mode='extended',\\\n",
        "                           include_entities=True, lang = 'en'). items(100):\n",
        "    if 'retweeted_status' in dir(tweet):\n",
        "        aux = tweet.retweeted_status.full_text\n",
        "    else:\n",
        "        aux = tweet.full_text\n",
        "    \n",
        "    newtweet = aux.replace(\"\\n\",\"\")\n",
        "    \n",
        "    tweets.append(newtweet)\n",
        "    info.append(tweet)\n",
        "    analyses = tb(tweet.full_text)\n",
        "    '''\n",
        "    if analyses.detect_language()!= 'en':\n",
        "        traducao = tb(str(analyses.translate(to='pt')))\n",
        "        #print ('Texto traduzido: %s' % traducao)\n",
        "        polarity = traducao.sentiment.polarity\n",
        "        polarities.append(polarity)\n",
        "    else:\n",
        "    '''  \n",
        "    polarity = analyses.sentiment.polarity\n",
        "    polarities.append(polarity)\n",
        "    \n",
        "    file = open('tweets_keyord_aula.txt', 'a', -1, 'utf-8')\n",
        "    file.write(newtweet+'\\n')\n",
        "    file.close()\n",
        "    time.sleep(0.5)"
      ],
      "execution_count": 42,
      "outputs": []
    },
    {
      "cell_type": "code",
      "metadata": {
        "colab": {
          "base_uri": "https://localhost:8080/"
        },
        "id": "1plaE9Sm_-hn",
        "outputId": "18435cd1-037e-496f-bf04-bd419b90df97"
      },
      "source": [
        "print(polarities)"
      ],
      "execution_count": 43,
      "outputs": [
        {
          "output_type": "stream",
          "text": [
            "[0.38, 0.05, 0.25, 0.1125, 0.6, 0.25, -0.1, 0.0, 0.0, 0.0, -0.2, 0.0, 0.3666666666666667, 0.5, -0.6, 0.0, -0.125, 0.1, 0.0, 0.0, 0.32499999999999996, -0.275, 0.0, 0.0, 0.3, 0.0, 0.0, 0.3, 0.0, 0.125, -0.04999999999999999, 1.0, 0.0, 0.0, 0.5, 0.4666666666666666, 0.25, 0.18333333333333335, 0.8, 0.5, 0.3571428571428571, 0.5, 0.0, 0.4, 0.0, 0.0, 0.0, 0.1375, 0.35000000000000003, 0.0, 0.3, 0.0, 0.025, 0.375, 0.0, 0.24722222222222223, 0.3, 0.3, 0.3166666666666667, 0.0, 0.2619047619047619, 0.08333333333333333, 0.1375, 0.8, 0.0, 0.0, 0.43333333333333335, 0.0, 0.3, 0.8, 0.0, 0.7, 0.0, 0.3, 0.8, 0.0, 0.0, 0.1, 0.0, -0.1, 0.35, 0.8, 0.6625000000000001, 0.8, 0.0, -0.5, 0.0, 0.4, 0.05, 0.35000000000000003, 0.2619047619047619, 0.0, 0.5277777777777778, 0.8, 0.0, 0.18333333333333335, 0.8, 0.0, -1.0, 0.25]\n"
          ],
          "name": "stdout"
        }
      ]
    },
    {
      "cell_type": "markdown",
      "metadata": {
        "id": "JaaCvLxT_-ho"
      },
      "source": [
        "##  <font color=blue>Buscar por palavra chave e recuperar os tweets em inglês</font>"
      ]
    },
    {
      "cell_type": "code",
      "metadata": {
        "colab": {
          "base_uri": "https://localhost:8080/"
        },
        "id": "1HgrCHEG_-hq",
        "outputId": "b6228a98-6806-450e-a2fe-2ba6a2465a3a"
      },
      "source": [
        "# Para verificar a quantidade de tweets coletado use a função \"len()\"\n",
        "\n",
        "print(\"Total de tweets coletados %s.\" % (len(info)))"
      ],
      "execution_count": 44,
      "outputs": [
        {
          "output_type": "stream",
          "text": [
            "Total de tweets coletados 100.\n"
          ],
          "name": "stdout"
        }
      ]
    },
    {
      "cell_type": "markdown",
      "metadata": {
        "id": "3GktLoQj_-hq"
      },
      "source": [
        "### <font color=blue>Criar dataframe</font>"
      ]
    },
    {
      "cell_type": "code",
      "metadata": {
        "id": "BpoSS1NI_-hq"
      },
      "source": [
        "tweets_df = pd.DataFrame(tweets, columns=['Tweets']) \n",
        "\n",
        "tweets_df['len']  = np.array([len(tweet) for tweet in tweets])\n",
        "tweets_df['ID']   = np.array([tweet.id for tweet in info])\n",
        "tweets_df['USER']   = np.array([tweet.user.screen_name for tweet in info])\n",
        "tweets_df['userName'] = np.array([tweet.user.name for tweet in info])\n",
        "tweets_df['User Location']    = np.array([tweet.user.location for tweet in info])\n",
        "tweets_df['Language'] = np.array([tweet.user.lang for tweet in info])\n",
        "tweets_df['Date'] = np.array([tweet.created_at for tweet in info])\n",
        "tweets_df['Source'] = np.array([tweet.source for tweet in info])\n",
        "tweets_df['Likes']  = np.array([tweet.favorite_count for tweet in info])\n",
        "tweets_df['Retweets']    = np.array([tweet.retweet_count for tweet in info])\n",
        "tweets_df['Geo']    = np.array([tweet.geo for tweet in info])\n",
        "tweets_df['Coordinates']    = np.array([tweet.coordinates for tweet in info])         \n",
        "tweets_df['Place']    = np.array([tweet.place for tweet in info])\n",
        "\n",
        "tweets_df.to_csv(\"tweets_Keyword_covid_100.csv\")"
      ],
      "execution_count": 45,
      "outputs": []
    },
    {
      "cell_type": "code",
      "metadata": {
        "colab": {
          "base_uri": "https://localhost:8080/",
          "height": 244
        },
        "id": "9XlMfZZX_-hr",
        "outputId": "bd7a2c47-02b6-4782-921b-2b3336a54a43"
      },
      "source": [
        "tweets_df.head(3)"
      ],
      "execution_count": 46,
      "outputs": [
        {
          "output_type": "execute_result",
          "data": {
            "text/html": [
              "<div>\n",
              "<style scoped>\n",
              "    .dataframe tbody tr th:only-of-type {\n",
              "        vertical-align: middle;\n",
              "    }\n",
              "\n",
              "    .dataframe tbody tr th {\n",
              "        vertical-align: top;\n",
              "    }\n",
              "\n",
              "    .dataframe thead th {\n",
              "        text-align: right;\n",
              "    }\n",
              "</style>\n",
              "<table border=\"1\" class=\"dataframe\">\n",
              "  <thead>\n",
              "    <tr style=\"text-align: right;\">\n",
              "      <th></th>\n",
              "      <th>Tweets</th>\n",
              "      <th>len</th>\n",
              "      <th>ID</th>\n",
              "      <th>USER</th>\n",
              "      <th>userName</th>\n",
              "      <th>User Location</th>\n",
              "      <th>Language</th>\n",
              "      <th>Date</th>\n",
              "      <th>Source</th>\n",
              "      <th>Likes</th>\n",
              "      <th>Retweets</th>\n",
              "      <th>Geo</th>\n",
              "      <th>Coordinates</th>\n",
              "      <th>Place</th>\n",
              "    </tr>\n",
              "  </thead>\n",
              "  <tbody>\n",
              "    <tr>\n",
              "      <th>0</th>\n",
              "      <td>A historical win!Greysia Polii and Apriyani Ra...</td>\n",
              "      <td>203</td>\n",
              "      <td>1422074907811323905</td>\n",
              "      <td>Olympics</td>\n",
              "      <td>Olympics</td>\n",
              "      <td></td>\n",
              "      <td>None</td>\n",
              "      <td>2021-08-02 06:00:53</td>\n",
              "      <td>Twitter Media Studio</td>\n",
              "      <td>120779</td>\n",
              "      <td>85585</td>\n",
              "      <td>None</td>\n",
              "      <td>None</td>\n",
              "      <td>None</td>\n",
              "    </tr>\n",
              "    <tr>\n",
              "      <th>1</th>\n",
              "      <td>Fave moment of the Olympics so far. Barshim (Q...</td>\n",
              "      <td>304</td>\n",
              "      <td>1421847918110248967</td>\n",
              "      <td>afidelf</td>\n",
              "      <td>Andrew Fidel Fernando</td>\n",
              "      <td>Sri Lanka</td>\n",
              "      <td>None</td>\n",
              "      <td>2021-08-01 14:58:54</td>\n",
              "      <td>Twitter Web App</td>\n",
              "      <td>57699</td>\n",
              "      <td>18782</td>\n",
              "      <td>None</td>\n",
              "      <td>None</td>\n",
              "      <td>None</td>\n",
              "    </tr>\n",
              "    <tr>\n",
              "      <th>2</th>\n",
              "      <td>Luar biasa‼️We salute 🇮🇩 Indonesia’s first eve...</td>\n",
              "      <td>149</td>\n",
              "      <td>1422074741762891776</td>\n",
              "      <td>bwfmedia</td>\n",
              "      <td>BWF</td>\n",
              "      <td>Kuala Lumpur, Malaysia</td>\n",
              "      <td>None</td>\n",
              "      <td>2021-08-02 06:00:13</td>\n",
              "      <td>Twitter Web App</td>\n",
              "      <td>30749</td>\n",
              "      <td>18998</td>\n",
              "      <td>None</td>\n",
              "      <td>None</td>\n",
              "      <td>None</td>\n",
              "    </tr>\n",
              "  </tbody>\n",
              "</table>\n",
              "</div>"
            ],
            "text/plain": [
              "                                              Tweets  len  ...  Coordinates Place\n",
              "0  A historical win!Greysia Polii and Apriyani Ra...  203  ...         None  None\n",
              "1  Fave moment of the Olympics so far. Barshim (Q...  304  ...         None  None\n",
              "2  Luar biasa‼️We salute 🇮🇩 Indonesia’s first eve...  149  ...         None  None\n",
              "\n",
              "[3 rows x 14 columns]"
            ]
          },
          "metadata": {
            "tags": []
          },
          "execution_count": 46
        }
      ]
    },
    {
      "cell_type": "markdown",
      "metadata": {
        "id": "aWE2gpAm_-ht"
      },
      "source": [
        "### Identificar Top Tweets coletados"
      ]
    },
    {
      "cell_type": "code",
      "metadata": {
        "colab": {
          "base_uri": "https://localhost:8080/"
        },
        "id": "XC82ElbQ_-ht",
        "outputId": "115abc67-0783-4735-ce15-800fbf8ff5b9"
      },
      "source": [
        "# Tweets com maior número de LIKES\n",
        "likes_max = np.max(tweets_df['Likes']) #Função max do numpy identifica o valor máximo\n",
        "\n",
        "likes = tweets_df[tweets_df.Likes == likes_max].index[0] #pega o primeiro tweet com valor máximo de curtidas\n",
        "\n",
        "print(\"O tweet com mais curtidas (likes) é: \\n{}\".format(tweets_df['Tweets'][likes]))\n",
        "print(\"Número de curtidas: {}\".format(likes_max))\n"
      ],
      "execution_count": 47,
      "outputs": [
        {
          "output_type": "stream",
          "text": [
            "O tweet com mais curtidas (likes) é: \n",
            "A historical win!Greysia Polii and Apriyani Rahayu secure #INA's first ever #Badminton women's doubles Olympic gold - and the nation's first of #Tokyo2020.@bwfmedia @nocindonesia1 https://t.co/F0HDisviLI\n",
            "Número de curtidas: 120779\n"
          ],
          "name": "stdout"
        }
      ]
    },
    {
      "cell_type": "code",
      "metadata": {
        "colab": {
          "base_uri": "https://localhost:8080/"
        },
        "id": "iN2_dOET_-hu",
        "outputId": "a8633f3c-eb35-4a5d-e604-70c2b383e34d"
      },
      "source": [
        "print(np.sum(tweets_df['Likes'] == likes_max)) #conta quantos tweets possuem o mesmo valor máximo de curtidas"
      ],
      "execution_count": 48,
      "outputs": [
        {
          "output_type": "stream",
          "text": [
            "1\n"
          ],
          "name": "stdout"
        }
      ]
    },
    {
      "cell_type": "code",
      "metadata": {
        "colab": {
          "base_uri": "https://localhost:8080/"
        },
        "id": "g-86MhXr_-hv",
        "outputId": "9546a8a7-b916-45e0-f7f6-47ad971f9649"
      },
      "source": [
        "retweet_max  = np.max(tweets_df['Retweets']) #retorna o valor máximo\n",
        "\n",
        "retweet  = tweets_df[tweets_df.Retweets == retweet_max].index[0] #pega o primeiro tweet com valor máximo de Retweets\n",
        "\n",
        "print(\"O tweet com mais retweet é: \\n{}\".format(tweets_df['Tweets'][retweet]))\n",
        "print(\"Número de retweets: {}\".format(retweet_max))"
      ],
      "execution_count": 49,
      "outputs": [
        {
          "output_type": "stream",
          "text": [
            "O tweet com mais retweet é: \n",
            "A historical win!Greysia Polii and Apriyani Rahayu secure #INA's first ever #Badminton women's doubles Olympic gold - and the nation's first of #Tokyo2020.@bwfmedia @nocindonesia1 https://t.co/F0HDisviLI\n",
            "Número de retweets: 85585\n"
          ],
          "name": "stdout"
        }
      ]
    },
    {
      "cell_type": "code",
      "metadata": {
        "colab": {
          "base_uri": "https://localhost:8080/"
        },
        "id": "4LfI_f-g_-hw",
        "outputId": "2c72f63c-b1ca-4482-da53-ce39d005c3f8"
      },
      "source": [
        "print(np.sum(tweets_df['Retweets'] == retweet_max)) #conta quantos tweets possuem o mesmo valor máximo de Retweets"
      ],
      "execution_count": 21,
      "outputs": [
        {
          "output_type": "stream",
          "text": [
            "1\n"
          ],
          "name": "stdout"
        }
      ]
    },
    {
      "cell_type": "markdown",
      "metadata": {
        "id": "HrsMy3zx_-hw"
      },
      "source": [
        "### Identifica a fonte(origem) do tweet"
      ]
    },
    {
      "cell_type": "markdown",
      "metadata": {
        "id": "eUxr4VMW_-hx"
      },
      "source": [
        "A fonte neste caso é o app ou dispositivo onde o usuário postou o tweet"
      ]
    },
    {
      "cell_type": "code",
      "metadata": {
        "id": "MwKvmQI8_-hx"
      },
      "source": [
        "sources = [] #lista para armazenar a fontes\n",
        "for source in tweets_df['Source']:\n",
        "    if source not in sources:\n",
        "        sources.append(source) #inclui no vetor sources apenas se a fonte encontrada ainda não foi incluída\n",
        "\n",
        "percent = np.zeros(len(sources)) #Retorna um novo vetor, com o número de elementos do vetor sources, preenchido com zeros a new array filled with zeros, for\n",
        "\n",
        "for source in tweets_df['Source']:\n",
        "    for index in range(len(sources)):\n",
        "        if source == sources[index]:\n",
        "            percent[index] += 1\n",
        "            pass"
      ],
      "execution_count": 64,
      "outputs": []
    },
    {
      "cell_type": "markdown",
      "metadata": {
        "id": "XXtD_pyu_-hy"
      },
      "source": [
        "##### Gráfico que exibe o número de tweets por fonte"
      ]
    },
    {
      "cell_type": "code",
      "metadata": {
        "colab": {
          "base_uri": "https://localhost:8080/",
          "height": 235
        },
        "id": "fztj8glF_-hy",
        "outputId": "3916aa85-24be-4eb5-fee1-3fa7d5af27ad"
      },
      "source": [
        "sourceDF = pd.DataFrame({\n",
        " 'source':percent,\n",
        "}, index=sources)\n",
        "\n",
        "sourceDF"
      ],
      "execution_count": 65,
      "outputs": [
        {
          "output_type": "execute_result",
          "data": {
            "text/html": [
              "<div>\n",
              "<style scoped>\n",
              "    .dataframe tbody tr th:only-of-type {\n",
              "        vertical-align: middle;\n",
              "    }\n",
              "\n",
              "    .dataframe tbody tr th {\n",
              "        vertical-align: top;\n",
              "    }\n",
              "\n",
              "    .dataframe thead th {\n",
              "        text-align: right;\n",
              "    }\n",
              "</style>\n",
              "<table border=\"1\" class=\"dataframe\">\n",
              "  <thead>\n",
              "    <tr style=\"text-align: right;\">\n",
              "      <th></th>\n",
              "      <th>source</th>\n",
              "    </tr>\n",
              "  </thead>\n",
              "  <tbody>\n",
              "    <tr>\n",
              "      <th>Twitter Media Studio</th>\n",
              "      <td>1.0</td>\n",
              "    </tr>\n",
              "    <tr>\n",
              "      <th>Twitter Web App</th>\n",
              "      <td>20.0</td>\n",
              "    </tr>\n",
              "    <tr>\n",
              "      <th>Twitter for Android</th>\n",
              "      <td>43.0</td>\n",
              "    </tr>\n",
              "    <tr>\n",
              "      <th>Twitter for iPhone</th>\n",
              "      <td>33.0</td>\n",
              "    </tr>\n",
              "    <tr>\n",
              "      <th>Twitter for iPad</th>\n",
              "      <td>2.0</td>\n",
              "    </tr>\n",
              "    <tr>\n",
              "      <th>IFTTT</th>\n",
              "      <td>1.0</td>\n",
              "    </tr>\n",
              "  </tbody>\n",
              "</table>\n",
              "</div>"
            ],
            "text/plain": [
              "                      source\n",
              "Twitter Media Studio     1.0\n",
              "Twitter Web App         20.0\n",
              "Twitter for Android     43.0\n",
              "Twitter for iPhone      33.0\n",
              "Twitter for iPad         2.0\n",
              "IFTTT                    1.0"
            ]
          },
          "metadata": {
            "tags": []
          },
          "execution_count": 65
        }
      ]
    },
    {
      "cell_type": "code",
      "metadata": {
        "colab": {
          "base_uri": "https://localhost:8080/",
          "height": 265
        },
        "id": "wS1sN6Sr_-h0",
        "outputId": "ce45be05-173c-4df7-a7e6-a3b157eb5296"
      },
      "source": [
        "sources_sorted = sourceDF.sort_values('source',ascending=True)\n",
        "ax = sources_sorted.source.plot(kind='barh',color='#A52A2A')\n",
        "ax.get_xaxis().set_major_formatter(plt.FuncFormatter(lambda x, loc: \"{:,}\".format(int(x))))"
      ],
      "execution_count": 66,
      "outputs": [
        {
          "output_type": "display_data",
          "data": {
            "image/png": "[encoded data removed]",
            "text/plain": [
              "<Figure size 432x288 with 1 Axes>"
            ]
          },
          "metadata": {
            "tags": [],
            "needs_background": "light"
          }
        }
      ]
    },
    {
      "cell_type": "markdown",
      "metadata": {
        "id": "D_MzJIw5_-h1"
      },
      "source": [
        "## <font color=red>Análise de polaridade:</font>"
      ]
    },
    {
      "cell_type": "code",
      "metadata": {
        "id": "BYtXarcm_-h2"
      },
      "source": [
        "#Variável que irá armazenar as polaridades\n",
        "analysis = None"
      ],
      "execution_count": 50,
      "outputs": []
    },
    {
      "cell_type": "code",
      "metadata": {
        "id": "G4yVplmA_-h2"
      },
      "source": [
        "# Lista vazia para armazenar as polaridades\n",
        "polarities = []"
      ],
      "execution_count": 51,
      "outputs": []
    },
    {
      "cell_type": "code",
      "metadata": {
        "colab": {
          "base_uri": "https://localhost:8080/",
          "height": 114
        },
        "id": "2Ao-G3u3_-h3",
        "outputId": "54612372-69ef-434a-f45f-d1ecf6421039"
      },
      "source": [
        "tweets_df.head(1)"
      ],
      "execution_count": 52,
      "outputs": [
        {
          "output_type": "execute_result",
          "data": {
            "text/html": [
              "<div>\n",
              "<style scoped>\n",
              "    .dataframe tbody tr th:only-of-type {\n",
              "        vertical-align: middle;\n",
              "    }\n",
              "\n",
              "    .dataframe tbody tr th {\n",
              "        vertical-align: top;\n",
              "    }\n",
              "\n",
              "    .dataframe thead th {\n",
              "        text-align: right;\n",
              "    }\n",
              "</style>\n",
              "<table border=\"1\" class=\"dataframe\">\n",
              "  <thead>\n",
              "    <tr style=\"text-align: right;\">\n",
              "      <th></th>\n",
              "      <th>Tweets</th>\n",
              "      <th>len</th>\n",
              "      <th>ID</th>\n",
              "      <th>USER</th>\n",
              "      <th>userName</th>\n",
              "      <th>User Location</th>\n",
              "      <th>Language</th>\n",
              "      <th>Date</th>\n",
              "      <th>Source</th>\n",
              "      <th>Likes</th>\n",
              "      <th>Retweets</th>\n",
              "      <th>Geo</th>\n",
              "      <th>Coordinates</th>\n",
              "      <th>Place</th>\n",
              "    </tr>\n",
              "  </thead>\n",
              "  <tbody>\n",
              "    <tr>\n",
              "      <th>0</th>\n",
              "      <td>A historical win!Greysia Polii and Apriyani Ra...</td>\n",
              "      <td>203</td>\n",
              "      <td>1422074907811323905</td>\n",
              "      <td>Olympics</td>\n",
              "      <td>Olympics</td>\n",
              "      <td></td>\n",
              "      <td>None</td>\n",
              "      <td>2021-08-02 06:00:53</td>\n",
              "      <td>Twitter Media Studio</td>\n",
              "      <td>120779</td>\n",
              "      <td>85585</td>\n",
              "      <td>None</td>\n",
              "      <td>None</td>\n",
              "      <td>None</td>\n",
              "    </tr>\n",
              "  </tbody>\n",
              "</table>\n",
              "</div>"
            ],
            "text/plain": [
              "                                              Tweets  len  ...  Coordinates Place\n",
              "0  A historical win!Greysia Polii and Apriyani Ra...  203  ...         None  None\n",
              "\n",
              "[1 rows x 14 columns]"
            ]
          },
          "metadata": {
            "tags": []
          },
          "execution_count": 52
        }
      ]
    },
    {
      "cell_type": "markdown",
      "metadata": {
        "id": "BsCIW05E_-h4"
      },
      "source": [
        "##### Calcula polaridade (sentiment.polarity)"
      ]
    },
    {
      "cell_type": "code",
      "metadata": {
        "id": "XHhRvd8N_-h4"
      },
      "source": [
        "for tweet in tweets_df['Tweets']: #para cada tweet    \n",
        "    analysis = tb(tweet)   \n",
        "    \n",
        "    polarity = analysis.sentiment.polarity #analisa a polaridade\n",
        "\n",
        "    polarities.append(polarity)"
      ],
      "execution_count": 53,
      "outputs": []
    },
    {
      "cell_type": "code",
      "metadata": {
        "colab": {
          "base_uri": "https://localhost:8080/"
        },
        "id": "Suhc7cTy_-h5",
        "outputId": "ffaef4b4-3b43-4ebf-fa01-c783d449573c"
      },
      "source": [
        "print('Vetor de polaridade:',polarities)"
      ],
      "execution_count": 54,
      "outputs": [
        {
          "output_type": "stream",
          "text": [
            "Vetor de polaridade: [0.225, 0.05, 0.25, 0.2333333333333333, 0.1375, 0.25, -0.1, 0.0, 0.0, 0.0, -0.2, 0.45, 0.3666666666666667, 0.5, -0.6, 0.0, -0.125, 0.1, 0.0, 0.0, 0.32499999999999996, -0.275, 0.0, 0.0, 0.3, 0.0, 0.0, 0.3, 0.0, 0.08333333333333333, 0.3041666666666667, 1.0, 0.0, 0.0, 0.5, 0.35, 0.525, 0.18333333333333335, 0.8, 0.3, 0.3571428571428571, 0.5, 0.0, 0.4, 0.0, 0.3, 0.16, 0.1375, 0.35000000000000003, 0.0, 0.3438095238095238, 0.06666666666666667, 0.2833333333333334, 0.3, 0.4166666666666667, 0.24722222222222223, 0.24, 0.3438095238095238, 0.3166666666666667, 0.0, 0.2619047619047619, 0.08333333333333333, 0.18142857142857144, 0.8, 0.0, 0.0, 0.403125, 0.0, 0.3, 0.8, -0.175, 0.7, 0.0, 0.15, 0.43333333333333335, 0.0, 0.0, 0.1, 0.0, -0.1, 0.35, 0.8, 0.7300000000000001, 0.8, 0.0, 0.16666666666666666, 0.0, 0.4, 0.05, 0.37, 0.2619047619047619, 0.0, 0.38148148148148153, 0.8, -0.11388888888888889, 0.18333333333333335, 0.8, 0.0, -1.0, 0.5958333333333333]\n"
          ],
          "name": "stdout"
        }
      ]
    },
    {
      "cell_type": "markdown",
      "metadata": {
        "id": "7Au1eRer_-h6"
      },
      "source": [
        "## <font color=red>Análise de Sentimentos:</font>"
      ]
    },
    {
      "cell_type": "code",
      "metadata": {
        "colab": {
          "base_uri": "https://localhost:8080/"
        },
        "id": "Y232v0a6_-h6",
        "outputId": "d3249e5f-836c-43f6-c734-a67d6cd839c9"
      },
      "source": [
        "print('Para a(s) palavra(s):\"%s\"' % keyword)\n",
        "print('A MÉDIA DE SENTIMENTO É: ' + str(np.mean(polarities)))"
      ],
      "execution_count": 55,
      "outputs": [
        {
          "output_type": "stream",
          "text": [
            "Para a(s) palavra(s):\"olympics\"\n",
            "A MÉDIA DE SENTIMENTO É: 0.20509606481481485\n"
          ],
          "name": "stdout"
        }
      ]
    },
    {
      "cell_type": "code",
      "metadata": {
        "id": "7cgPmz5g_-h7"
      },
      "source": [
        "positive = 0\n",
        "negative = 0\n",
        "neutral = 0\n",
        "\n",
        "for polarity in polarities:\n",
        "    if polarity > 0:\n",
        "        positive = positive+1\n",
        "    elif polarity < 0:\n",
        "        negative = negative+1\n",
        "    else:\n",
        "        neutral = neutral+1                           "
      ],
      "execution_count": 56,
      "outputs": []
    },
    {
      "cell_type": "code",
      "metadata": {
        "colab": {
          "base_uri": "https://localhost:8080/"
        },
        "id": "NgKcXow3_-h7",
        "outputId": "834b4f25-b06b-4e2f-d0ee-53117f42654e"
      },
      "source": [
        "print(\"Tweets Positivos: %s\" % positive)\n",
        "print(\"Tweets Negativos: %s\" % negative)\n",
        "print(\"Tweets Neutros: %s\" % neutral)"
      ],
      "execution_count": 57,
      "outputs": [
        {
          "output_type": "stream",
          "text": [
            "Tweets Positivos: 63\n",
            "Tweets Negativos: 9\n",
            "Tweets Neutros: 28\n"
          ],
          "name": "stdout"
        }
      ]
    },
    {
      "cell_type": "code",
      "metadata": {
        "id": "2gowu-bc_-h7"
      },
      "source": [
        "#calcula percentual\n",
        "pos_pct=positive*100/len(polarities)\n",
        "neg_pct=negative*100/len(polarities)\n",
        "neu_pct=neutral*100/len(polarities)"
      ],
      "execution_count": 58,
      "outputs": []
    },
    {
      "cell_type": "code",
      "metadata": {
        "id": "-hvgvsFF_-h8"
      },
      "source": [
        "sentiments = ['Positivos', 'Negativos','Neutros']\n",
        "percents = [pos_pct, neg_pct, neu_pct]"
      ],
      "execution_count": 59,
      "outputs": []
    },
    {
      "cell_type": "code",
      "metadata": {
        "colab": {
          "base_uri": "https://localhost:8080/",
          "height": 319
        },
        "id": "-_LTYgQO_-h8",
        "outputId": "d651e06e-ef8b-422f-8aeb-775218cb5b6c"
      },
      "source": [
        "pie_chart = pd.Series(percents, index=sentiments,name='Sentimentos')\n",
        "pie_chart.plot.pie(fontsize=12, autopct='%.2f', figsize=(5, 5),title=\"Análise de Sentimentos tweets\");"
      ],
      "execution_count": 60,
      "outputs": [
        {
          "output_type": "display_data",
          "data": {
            "image/png": "[encoded data removed]",
            "text/plain": [
              "<Figure size 360x360 with 1 Axes>"
            ]
          },
          "metadata": {
            "tags": []
          }
        }
      ]
    },
    {
      "cell_type": "code",
      "metadata": {
        "colab": {
          "base_uri": "https://localhost:8080/",
          "height": 427
        },
        "id": "en5GDmK0_-h9",
        "outputId": "ae49b3aa-01f5-46c8-c8b7-4f1ebbf1c80c"
      },
      "source": [
        "#ax1.pie(sizes, explode=explode, labels=labels, autopct='%1.1f%%',        shadow=True, startangle=90)\n",
        "explode = (0.1, 0, 0) #Separa o primeiro\n",
        "\n",
        "pie_chart = pd.Series(percents, index=sentiments,name='')\n",
        "pie_chart.plot.pie(fontsize=12, explode=explode, autopct='%.2f%%', shadow=True, figsize=(7, 7),title=\"Análise de Sentimentos tweets\");"
      ],
      "execution_count": 61,
      "outputs": [
        {
          "output_type": "display_data",
          "data": {
            "image/png": "[encoded data removed]",
            "text/plain": [
              "<Figure size 504x504 with 1 Axes>"
            ]
          },
          "metadata": {
            "tags": []
          }
        }
      ]
    },
    {
      "cell_type": "markdown",
      "metadata": {
        "id": "KSnxmK7P_-h9"
      },
      "source": [
        "**Dica:**\n",
        "Veja a documentação do pacote *Matplotlib* no link:\n",
        "* https://matplotlib.org/3.1.1/contents.html#"
      ]
    },
    {
      "cell_type": "markdown",
      "metadata": {
        "id": "c2qWZH8s_-h9"
      },
      "source": [
        "### <font color=blue>Mapa de calor dos tweets</font>"
      ]
    },
    {
      "cell_type": "code",
      "metadata": {
        "id": "3nExrbCR_-h-"
      },
      "source": [
        "geolocator = Nominatim(user_agent=\"TweeterSentiments\")\n",
        "\n",
        "latitude = []\n",
        "longitude = []\n",
        "\n",
        "for user_location in tweets_df['User Location']:\n",
        "    try:\n",
        "        location = geolocator.geocode(user_location)\n",
        "        latitude.append(location.latitude)\n",
        "        longitude.append(location.longitude)\n",
        "    except:\n",
        "        continue"
      ],
      "execution_count": 62,
      "outputs": []
    },
    {
      "cell_type": "markdown",
      "metadata": {
        "id": "FDHSPMvD_-h-"
      },
      "source": [
        "**Dica:** Veja a documentação da função *Nominatim* no link:\n",
        "\n",
        "* https://geopy.readthedocs.io/en/stable/#nominatim"
      ]
    },
    {
      "cell_type": "code",
      "metadata": {
        "colab": {
          "base_uri": "https://localhost:8080/",
          "height": 763
        },
        "id": "DZ6Y7JL3_-h_",
        "outputId": "0ab69b93-bf23-4ba7-aa71-e62eaeb0a29f"
      },
      "source": [
        "coordenadas = np.column_stack((latitude, longitude))\n",
        "\n",
        "mapa = folium.Map(zoom_start=3.)\n",
        "mapa.add_child(plugins.HeatMap(coordenadas))\n",
        "mapa.save('covid.html')\n",
        "mapa"
      ],
      "execution_count": 63,
      "outputs": [
        {
          "output_type": "execute_result",
          "data": {
            "text/html": [
              "<div style=\"width:100%;\"><div style=\"position:relative;width:100%;height:0;padding-bottom:60%;\"><span style=\"color:#565656\">Make this Notebook Trusted to load map: File -> Trust Notebook</span><iframe src=\"about:blank\" style=\"position:absolute;width:100%;height:100%;left:0;top:0;border:none !important;\" data-html=%3C%21DOCTYPE%20html%3E%0A%3Chead%3E%20%20%20%20%0A%20%20%20%20%3Cmeta%20http-equiv%3D%22content-type%22%20content%3D%22text/html%3B%20charset%3DUTF-8%22%20/%3E%0A%20%20%20%20%3Cscript%3EL_PREFER_CANVAS%3Dfalse%3B%20L_NO_TOUCH%3Dfalse%3B%20L_DISABLE_3D%3Dfalse%3B%3C/script%3E%0A%20%20%20%20%3Cscript%20src%3D%22https%3A//cdn.jsdelivr.net/npm/leaflet%401.4.0/dist/leaflet.js%22%3E%3C/script%3E%0A%20%20%20%20%3Cscript%20src%3D%22https%3A//code.jquery.com/jquery-1.12.4.min.js%22%3E%3C/script%3E%0A%20%20%20%20%3Cscript%20src%3D%22https%3A//maxcdn.bootstrapcdn.com/bootstrap/3.2.0/js/bootstrap.min.js%22%3E%3C/script%3E%0A%20%20%20%20%3Cscript%20src%3D%22https%3A//cdnjs.cloudflare.com/ajax/libs/Leaflet.awesome-markers/2.0.2/leaflet.awesome-markers.js%22%3E%3C/script%3E%0A%20%20%20%20%3Clink%20rel%3D%22stylesheet%22%20href%3D%22https%3A//cdn.jsdelivr.net/npm/leaflet%401.4.0/dist/leaflet.css%22/%3E%0A%20%20%20%20%3Clink%20rel%3D%22stylesheet%22%20href%3D%22https%3A//maxcdn.bootstrapcdn.com/bootstrap/3.2.0/css/bootstrap.min.css%22/%3E%0A%20%20%20%20%3Clink%20rel%3D%22stylesheet%22%20href%3D%22https%3A//maxcdn.bootstrapcdn.com/bootstrap/3.2.0/css/bootstrap-theme.min.css%22/%3E%0A%20%20%20%20%3Clink%20rel%3D%22stylesheet%22%20href%3D%22https%3A//maxcdn.bootstrapcdn.com/font-awesome/4.6.3/css/font-awesome.min.css%22/%3E%0A%20%20%20%20%3Clink%20rel%3D%22stylesheet%22%20href%3D%22https%3A//cdnjs.cloudflare.com/ajax/libs/Leaflet.awesome-markers/2.0.2/leaflet.awesome-markers.css%22/%3E%0A%20%20%20%20%3Clink%20rel%3D%22stylesheet%22%20href%3D%22https%3A//rawcdn.githack.com/python-visualization/folium/master/folium/templates/leaflet.awesome.rotate.css%22/%3E%0A%20%20%20%20%3Cstyle%3Ehtml%2C%20body%20%7Bwidth%3A%20100%25%3Bheight%3A%20100%25%3Bmargin%3A%200%3Bpadding%3A%200%3B%7D%3C/style%3E%0A%20%20%20%20%3Cstyle%3E%23map%20%7Bposition%3Aabsolute%3Btop%3A0%3Bbottom%3A0%3Bright%3A0%3Bleft%3A0%3B%7D%3C/style%3E%0A%20%20%20%20%0A%20%20%20%20%3Cmeta%20name%3D%22viewport%22%20content%3D%22width%3Ddevice-width%2C%0A%20%20%20%20%20%20%20%20initial-scale%3D1.0%2C%20maximum-scale%3D1.0%2C%20user-scalable%3Dno%22%20/%3E%0A%20%20%20%20%3Cstyle%3E%23map_bb1510cc60284e138e1c24beca3ef8e0%20%7B%0A%20%20%20%20%20%20%20%20position%3A%20relative%3B%0A%20%20%20%20%20%20%20%20width%3A%20100.0%25%3B%0A%20%20%20%20%20%20%20%20height%3A%20100.0%25%3B%0A%20%20%20%20%20%20%20%20left%3A%200.0%25%3B%0A%20%20%20%20%20%20%20%20top%3A%200.0%25%3B%0A%20%20%20%20%20%20%20%20%7D%0A%20%20%20%20%3C/style%3E%0A%20%20%20%20%3Cscript%20src%3D%22https%3A//leaflet.github.io/Leaflet.heat/dist/leaflet-heat.js%22%3E%3C/script%3E%0A%3C/head%3E%0A%3Cbody%3E%20%20%20%20%0A%20%20%20%20%0A%20%20%20%20%3Cdiv%20class%3D%22folium-map%22%20id%3D%22map_bb1510cc60284e138e1c24beca3ef8e0%22%20%3E%3C/div%3E%0A%3C/body%3E%0A%3Cscript%3E%20%20%20%20%0A%20%20%20%20%0A%20%20%20%20%0A%20%20%20%20%20%20%20%20var%20bounds%20%3D%20null%3B%0A%20%20%20%20%0A%0A%20%20%20%20var%20map_bb1510cc60284e138e1c24beca3ef8e0%20%3D%20L.map%28%0A%20%20%20%20%20%20%20%20%27map_bb1510cc60284e138e1c24beca3ef8e0%27%2C%20%7B%0A%20%20%20%20%20%20%20%20center%3A%20%5B0%2C%200%5D%2C%0A%20%20%20%20%20%20%20%20zoom%3A%201%2C%0A%20%20%20%20%20%20%20%20maxBounds%3A%20bounds%2C%0A%20%20%20%20%20%20%20%20layers%3A%20%5B%5D%2C%0A%20%20%20%20%20%20%20%20worldCopyJump%3A%20false%2C%0A%20%20%20%20%20%20%20%20crs%3A%20L.CRS.EPSG3857%2C%0A%20%20%20%20%20%20%20%20zoomControl%3A%20true%2C%0A%20%20%20%20%20%20%20%20%7D%29%3B%0A%0A%0A%20%20%20%20%0A%20%20%20%20var%20tile_layer_a62335a6f22c410b84fd6c1aaf2e6ae4%20%3D%20L.tileLayer%28%0A%20%20%20%20%20%20%20%20%27https%3A//%7Bs%7D.tile.openstreetmap.org/%7Bz%7D/%7Bx%7D/%7By%7D.png%27%2C%0A%20%20%20%20%20%20%20%20%7B%0A%20%20%20%20%20%20%20%20%22attribution%22%3A%20null%2C%0A%20%20%20%20%20%20%20%20%22detectRetina%22%3A%20false%2C%0A%20%20%20%20%20%20%20%20%22maxNativeZoom%22%3A%2018%2C%0A%20%20%20%20%20%20%20%20%22maxZoom%22%3A%2018%2C%0A%20%20%20%20%20%20%20%20%22minZoom%22%3A%200%2C%0A%20%20%20%20%20%20%20%20%22noWrap%22%3A%20false%2C%0A%20%20%20%20%20%20%20%20%22opacity%22%3A%201%2C%0A%20%20%20%20%20%20%20%20%22subdomains%22%3A%20%22abc%22%2C%0A%20%20%20%20%20%20%20%20%22tms%22%3A%20false%0A%7D%29.addTo%28map_bb1510cc60284e138e1c24beca3ef8e0%29%3B%0A%20%20%20%20%0A%20%20%20%20%20%20%20%20%20%20%20%20var%20heat_map_45e670ea5fad499c9b101b9ab2b1ce09%20%3D%20L.heatLayer%28%0A%20%20%20%20%20%20%20%20%20%20%20%20%20%20%20%20%5B%5B7.5554942%2C%2080.7137847%5D%2C%20%5B3.1516964%2C%20101.6942371%5D%2C%20%5B26.42384715%2C%2083.76273169028727%5D%2C%20%5B39.4850226%2C%20-97.6705137%5D%2C%20%5B52.5170365%2C%2013.3888599%5D%2C%20%5B0.3177137%2C%2032.5813539%5D%2C%20%5B54.7023545%2C%20-3.2765753%5D%2C%20%5B39.7837304%2C%20-100.4458825%5D%2C%20%5B50.8893082%2C%204.3267613%5D%2C%20%5B25.074282349999997%2C%2055.18853865430702%5D%2C%20%5B22.3511148%2C%2078.6677428%5D%2C%20%5B52.131802%2C%20-106.660767%5D%2C%20%5B38.7953835%2C%20-9.18782210264363%5D%2C%20%5B6.4550575%2C%203.3941795%5D%2C%20%5B52.3727598%2C%204.8936041%5D%2C%20%5B25.6093239%2C%2085.1235252%5D%2C%20%5B30.616216450000003%2C%2077.04197804321875%5D%2C%20%5B28.6138954%2C%2077.2090057%5D%2C%20%5B18.1120819%2C%2083.4052196224888%5D%2C%20%5B22.381001949999998%2C%20-105.6657165551425%5D%2C%20%5B22.5726723%2C%2088.3638815%5D%2C%20%5B52.5310214%2C%20-1.2649062%5D%2C%20%5B26.8381%2C%2080.9346001%5D%2C%20%5B8.0300284%2C%20-1.0800271%5D%2C%20%5B-20.112301799999997%2C%2016.161563466498666%5D%2C%20%5B25.074282349999997%2C%2055.18853865430702%5D%2C%20%5B50.8214626%2C%20-0.1400561%5D%2C%20%5B39.7837304%2C%20-100.4458825%5D%2C%20%5B-10.3333333%2C%20-53.2%5D%2C%20%5B22.3511148%2C%2078.6677428%5D%2C%20%5B52.9534193%2C%20-1.1496461%5D%2C%20%5B12.9791198%2C%2077.5912997%5D%2C%20%5B25.0375198%2C%20121.5636796%5D%2C%20%5B26.9154576%2C%2075.8189817%5D%2C%20%5B16.0485657%2C%20108.24743%5D%2C%20%5B42.3566382%2C%20-3.6500195%5D%2C%20%5B-2.5522045%2C%20120.3254725%5D%2C%20%5B25.22081165%2C%2086.51720367235285%5D%2C%20%5B15.7963568%2C%2078.0523615%5D%2C%20%5B38.8949924%2C%20-77.0365581%5D%2C%20%5B30.2711286%2C%20-97.7436995%5D%2C%20%5B39.7837304%2C%20-100.4458825%5D%2C%20%5B53.035502%2C%20-7.2935044%5D%2C%20%5B22.3511148%2C%2078.6677428%5D%2C%20%5B20.8542575%2C%20-99.84756%5D%2C%20%5B22.3511148%2C%2078.6677428%5D%2C%20%5B30.2489634%2C%20120.2052342%5D%2C%20%5B28.6138954%2C%2077.2090057%5D%2C%20%5B39.1014537%2C%20-84.5124602%5D%2C%20%5B52.0191005%2C%208.531007%5D%2C%20%5B30.9293211%2C%2075.5004841%5D%2C%20%5B13.0836939%2C%2080.270186%5D%2C%20%5B17.360589%2C%2078.4740613%5D%2C%20%5B51.4534156%2C%20-1.2847304227455663%5D%2C%20%5B32.7174202%2C%20-117.1627728%5D%5D%2C%0A%20%20%20%20%20%20%20%20%20%20%20%20%20%20%20%20%7B%0A%20%20%20%20%20%20%20%20%20%20%20%20%20%20%20%20%20%20%20%20minOpacity%3A%200.5%2C%0A%20%20%20%20%20%20%20%20%20%20%20%20%20%20%20%20%20%20%20%20maxZoom%3A%2018%2C%0A%20%20%20%20%20%20%20%20%20%20%20%20%20%20%20%20%20%20%20%20max%3A%201.0%2C%0A%20%20%20%20%20%20%20%20%20%20%20%20%20%20%20%20%20%20%20%20radius%3A%2025%2C%0A%20%20%20%20%20%20%20%20%20%20%20%20%20%20%20%20%20%20%20%20blur%3A%2015%2C%0A%20%20%20%20%20%20%20%20%20%20%20%20%20%20%20%20%20%20%20%20gradient%3A%20null%0A%20%20%20%20%20%20%20%20%20%20%20%20%20%20%20%20%20%20%20%20%7D%29%0A%20%20%20%20%20%20%20%20%20%20%20%20%20%20%20%20.addTo%28map_bb1510cc60284e138e1c24beca3ef8e0%29%3B%0A%20%20%20%20%20%20%20%20%0A%3C/script%3E onload=\"this.contentDocument.open();this.contentDocument.write(    decodeURIComponent(this.getAttribute('data-html')));this.contentDocument.close();\" allowfullscreen webkitallowfullscreen mozallowfullscreen></iframe></div></div>"
            ],
            "text/plain": [
              "<folium.folium.Map at 0x7f176863ce90>"
            ]
          },
          "metadata": {
            "tags": []
          },
          "execution_count": 63
        }
      ]
    },
    {
      "cell_type": "markdown",
      "metadata": {
        "id": "HjoM0vtv_-h_"
      },
      "source": [
        "**Dica:** Para conhecer o pacote Folium veja os links:\n",
        "* https://python-visualization.github.io/folium/\n",
        "* https://medium.com/@datalivre/folium-d6036a9ad29c"
      ]
    }
  ]
}
